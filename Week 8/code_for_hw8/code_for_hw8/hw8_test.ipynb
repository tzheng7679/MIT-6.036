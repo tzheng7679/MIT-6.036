{
 "cells": [
  {
   "cell_type": "markdown",
   "metadata": {},
   "source": [
    "# Importing hw8"
   ]
  },
  {
   "cell_type": "code",
   "execution_count": null,
   "metadata": {},
   "outputs": [],
   "source": [
    "import importlib\n",
    "import code_for_hw8_keras as hw8\n",
    "import numpy as np\n",
    "importlib.reload(hw8)"
   ]
  },
  {
   "cell_type": "markdown",
   "metadata": {},
   "source": [
    "# Problem 3"
   ]
  },
  {
   "cell_type": "markdown",
   "metadata": {},
   "source": [
    "### a.) Test method"
   ]
  },
  {
   "cell_type": "code",
   "execution_count": null,
   "metadata": {},
   "outputs": [],
   "source": [
    "two_archs = hw8.archs(2)\n",
    "\n",
    "def test(dataset, trials=5):\n",
    "    epochs = 10\n",
    "    print(\"########\")\n",
    "    print(f\"Dataset {dataset}\")\n",
    "    print(\"########\")\n",
    "\n",
    "    for i in range(5):\n",
    "        arch = two_archs[i]\n",
    "        X_train, y, model = hw8.run_keras_2d(dataset, arch, epochs, trials = trials)"
   ]
  },
  {
   "cell_type": "markdown",
   "metadata": {},
   "source": [
    "### Datasets"
   ]
  },
  {
   "cell_type": "code",
   "execution_count": null,
   "metadata": {},
   "outputs": [],
   "source": [
    "#Get archetypes\n",
    "test('1', 1)"
   ]
  },
  {
   "cell_type": "code",
   "execution_count": null,
   "metadata": {},
   "outputs": [],
   "source": [
    "test('2', 3)    "
   ]
  },
  {
   "cell_type": "code",
   "execution_count": null,
   "metadata": {},
   "outputs": [],
   "source": [
    "test('3', 3)"
   ]
  },
  {
   "cell_type": "code",
   "execution_count": null,
   "metadata": {},
   "outputs": [],
   "source": [
    "test('4', 3)"
   ]
  },
  {
   "cell_type": "code",
   "execution_count": null,
   "metadata": {},
   "outputs": [],
   "source": [
    "test('5')"
   ]
  },
  {
   "cell_type": "markdown",
   "metadata": {},
   "source": [
    "### c.)"
   ]
  },
  {
   "cell_type": "code",
   "execution_count": null,
   "metadata": {},
   "outputs": [],
   "source": [
    "from keras._tf_keras.keras.layers import Dense\n",
    "\n",
    "arch = [Dense(input_dim=2, units=200, activation='relu'),\n",
    "             Dense(units=200, activation='relu'),\n",
    "             Dense(units=2, activation=\"softmax\")]\n",
    "\n",
    "hw8.run_keras_2d('3', arch, epochs=100, trials=1)"
   ]
  },
  {
   "cell_type": "markdown",
   "metadata": {},
   "source": [
    "### e.)"
   ]
  },
  {
   "cell_type": "code",
   "execution_count": null,
   "metadata": {},
   "outputs": [],
   "source": [
    "three_archs = hw8.archs(3)\n",
    "for arch in three_archs:\n",
    "    hw8.run_keras_2d(data_name = \"3class\", layers = arch, epochs=10, display=False, split=.5, verbose=False, trials=5)"
   ]
  },
  {
   "cell_type": "markdown",
   "metadata": {},
   "source": [
    "### g.)"
   ]
  },
  {
   "cell_type": "code",
   "execution_count": null,
   "metadata": {},
   "outputs": [],
   "source": [
    "no_hidden = three_archs[0][0]\n",
    "\n",
    "weights = (no_hidden.get_weights())\n",
    "test_data = np.array([[-1,0], [1,0], [0,-11], [0,1], [-1,-1], [-1,1], [1,1], [1,-1]])\n",
    "calced = (weights[0].T@test_data.T + np.reshape(weights[1], (3, 1)))\n",
    "print(calced.T)"
   ]
  },
  {
   "cell_type": "markdown",
   "metadata": {},
   "source": [
    "# Problem 4"
   ]
  },
  {
   "cell_type": "code",
   "execution_count": null,
   "metadata": {},
   "outputs": [],
   "source": [
    "img_size = 1024\n",
    "data = hw8.get_image_data_1d(5,1024,.1)\n",
    "\n",
    "from keras._tf_keras.keras.layers import Conv1D, Dense, Flatten\n",
    "from keras._tf_keras.keras.metrics import Sum\n",
    "from keras._tf_keras.keras.optimizers import Adam\n",
    "from keras._tf_keras.keras import Input\n",
    "from keras._tf_keras.keras import Sequential\n",
    "su = Sum()\n",
    "\n",
    "\n",
    "tsize=1000\n",
    "imsize=1024\n",
    "kernel_s=2\n",
    "batch=1\n",
    "data=hw8.get_image_data_1d(tsize,imsize,0.1)\n",
    "(X_train,Y_train,X_val,Y_val,X_test,Y_test)=data\n",
    "layer1=Conv1D(filters=1, kernel_size=kernel_s, strides=1,use_bias=False,activation='relu',batch_size=batch,input_shape=(imsize,1),padding='same')\n",
    "layer3=Dense(units=1, activation='linear',use_bias=False)\n",
    "layers=[layer1,Flatten(),layer3]\n",
    "model=Sequential()\n",
    "for layer in layers:\n",
    "    model.add(layer)\n",
    "model.compile(loss='mse', optimizer=Adam())    \n",
    "model.layers[0].set_weights([np.array([1/2,1/2]).reshape(2,1,1)])\n",
    "model.layers[-1].set_weights([np.ones(imsize).reshape(imsize,1)])\n",
    "model.evaluate(X_test,Y_test)"
   ]
  },
  {
   "cell_type": "code",
   "execution_count": null,
   "metadata": {},
   "outputs": [],
   "source": [
    "layer3star = Dense(units=1, activation='linear',use_bias=True)\n",
    "layers=[layer1,Flatten(),layer3star]\n",
    "\n",
    "model=Sequential()\n",
    "for layer in layers:\n",
    "    model.add(layer)\n",
    "model.compile(loss='mse', optimizer=Adam())\n",
    "model.layers[0].set_weights([np.array([1/2,1/2]).reshape(2,1,1)])\n",
    "model.layers[-1].set_weights([np.ones(imsize).reshape(imsize,1), np.array([-10])])\n",
    "model.evaluate(X_test,Y_test)"
   ]
  },
  {
   "cell_type": "code",
   "execution_count": null,
   "metadata": {},
   "outputs": [],
   "source": [
    "import keras._tf_keras.keras.regularizers as r\n",
    "import keras._tf_keras.keras.ops as ops\n",
    "\n",
    "class MyRegularizer(r.Regularizer):\n",
    "    def __init__(self, strength=1):\n",
    "        self.strength = strength\n",
    "    \n",
    "    def __call__(self, weight_matrix):\n",
    "        return self.strength * ops.abs(ops.sum(weight_matrix))\n",
    "    \n",
    "layer1star = Conv1D(filters=1, kernel_size=kernel_s, strides=1,use_bias=False,activation='relu',input_shape=(imsize,1),padding='same', kernel_regularizer=MyRegularizer(1000))\n",
    "layer3=Dense(units=1, activation='linear',use_bias=False)\n",
    "layers = [layer1star, Flatten(), layer3]\n",
    "\n",
    "for trial in range(5):\n",
    "    model, err = hw8.train_neural_counter(layers, data)\n",
    "    print(err)\n"
   ]
  },
  {
   "cell_type": "code",
   "execution_count": null,
   "metadata": {},
   "outputs": [],
   "source": [
    "size2 = 128\n",
    "layer1=Conv1D(filters=1, kernel_size=kernel_s, strides=2,use_bias=False,activation='relu',input_shape=(1024,1),padding='same')\n",
    "\n",
    "from keras._tf_keras.keras.layers import MaxPool1D\n",
    "layer2 = MaxPool1D(2)\n",
    "layer3 = Flatten()\n",
    "layer4=Dense(units=1, activation='linear',use_bias=False)\n",
    "\n",
    "layers = [layer1, layer2, layer3, layer4]\n",
    "\n",
    "data128 = hw8.get_image_data_1d(tsize = 1000, image_size=size2, prob=.1)\n",
    "model, err = hw8.train_neural_counter(layers, data)\n",
    "print(err)\n"
   ]
  },
  {
   "cell_type": "markdown",
   "metadata": {},
   "source": [
    "# Problem 5 - MNIST"
   ]
  },
  {
   "cell_type": "code",
   "execution_count": 40,
   "metadata": {},
   "outputs": [],
   "source": [
    "import code_for_hw8_keras as hw8\n",
    "import importlib\n",
    "from keras._tf_keras.keras.layers import Dense, Conv1D, Conv2D, Activation\n",
    "nums = 10"
   ]
  },
  {
   "cell_type": "code",
   "execution_count": 41,
   "metadata": {},
   "outputs": [],
   "source": [
    "train, validation = hw8.get_MNIST_data()"
   ]
  },
  {
   "cell_type": "code",
   "execution_count": 47,
   "metadata": {},
   "outputs": [],
   "source": [
    "def test_fc(train, validation, layers, epochs, verbose=True, trials=5):\n",
    "    hw8.run_keras_fc_mnist(validation, validation, layers, epochs, split=0.1, verbose=verbose, trials=trials)\n",
    "\n",
    "def test_cn(validation, validation, layers, epochs, verbose=True, trials=5):\n",
    "    hw8.run_keras_cn_mnist(validation, validation, layers, epochs, split=0.1, verbose=verbose, trials=trials)\n"
   ]
  },
  {
   "cell_type": "code",
   "execution_count": 43,
   "metadata": {},
   "outputs": [
    {
     "name": "stderr",
     "output_type": "stream",
     "text": [
      "C:\\Users\\Tony Zheng\\AppData\\Roaming\\Python\\Python312\\site-packages\\keras\\src\\layers\\core\\dense.py:87: UserWarning: Do not pass an `input_shape`/`input_dim` argument to a layer. When using Sequential models, prefer using an `Input(shape)` object as the first layer in the model instead.\n",
      "  super().__init__(activity_regularizer=activity_regularizer, **kwargs)\n"
     ]
    },
    {
     "name": "stdout",
     "output_type": "stream",
     "text": [
      "\u001b[1m1875/1875\u001b[0m \u001b[32m━━━━━━━━━━━━━━━━━━━━\u001b[0m\u001b[37m\u001b[0m \u001b[1m2s\u001b[0m 1ms/step - accuracy: 0.7747 - loss: 16.8751 - val_accuracy: 0.8812 - val_loss: 6.3354\n",
      "\n",
      "Loss on validation set:6.33543586730957 Accuracy on validation set: 0.8812000155448914\n",
      "\u001b[1m1875/1875\u001b[0m \u001b[32m━━━━━━━━━━━━━━━━━━━━\u001b[0m\u001b[37m\u001b[0m \u001b[1m2s\u001b[0m 952us/step - accuracy: 0.8775 - loss: 6.2737 - val_accuracy: 0.8872 - val_loss: 6.4363\n",
      "\n",
      "Loss on validation set:6.436333179473877 Accuracy on validation set: 0.8871999979019165\n",
      "\u001b[1m1875/1875\u001b[0m \u001b[32m━━━━━━━━━━━━━━━━━━━━\u001b[0m\u001b[37m\u001b[0m \u001b[1m2s\u001b[0m 932us/step - accuracy: 0.8866 - loss: 5.6592 - val_accuracy: 0.8823 - val_loss: 5.7944\n",
      "\n",
      "Loss on validation set:5.794368267059326 Accuracy on validation set: 0.8823000192642212\n",
      "\u001b[1m1875/1875\u001b[0m \u001b[32m━━━━━━━━━━━━━━━━━━━━\u001b[0m\u001b[37m\u001b[0m \u001b[1m2s\u001b[0m 954us/step - accuracy: 0.8835 - loss: 5.5573 - val_accuracy: 0.9006 - val_loss: 5.6492\n",
      "\n",
      "Loss on validation set:5.649191379547119 Accuracy on validation set: 0.900600016117096\n",
      "\u001b[1m1875/1875\u001b[0m \u001b[32m━━━━━━━━━━━━━━━━━━━━\u001b[0m\u001b[37m\u001b[0m \u001b[1m2s\u001b[0m 910us/step - accuracy: 0.8873 - loss: 5.4753 - val_accuracy: 0.8803 - val_loss: 6.0025\n",
      "\n",
      "Loss on validation set:6.002542972564697 Accuracy on validation set: 0.880299985408783\n",
      "\n",
      "Avg. validation accuracy:0.8863200068473815\n"
     ]
    }
   ],
   "source": [
    "# 5b\n",
    "importlib.reload(hw8)\n",
    "layers_b = [Dense(10, 'softmax', input_dim=28*28)]\n",
    "test_fc(train, validation, layers_b, 1)"
   ]
  },
  {
   "cell_type": "code",
   "execution_count": 44,
   "metadata": {},
   "outputs": [
    {
     "name": "stdout",
     "output_type": "stream",
     "text": [
      "\u001b[1m1875/1875\u001b[0m \u001b[32m━━━━━━━━━━━━━━━━━━━━\u001b[0m\u001b[37m\u001b[0m \u001b[1m2s\u001b[0m 909us/step - accuracy: 0.8322 - loss: 4.0731 - val_accuracy: 0.8575 - val_loss: 5.0820\n",
      "\n",
      "Loss on validation set:5.081984043121338 Accuracy on validation set: 0.8575000166893005\n",
      "\u001b[1m1875/1875\u001b[0m \u001b[32m━━━━━━━━━━━━━━━━━━━━\u001b[0m\u001b[37m\u001b[0m \u001b[1m2s\u001b[0m 914us/step - accuracy: 0.8788 - loss: 4.8120 - val_accuracy: 0.8916 - val_loss: 4.4658\n",
      "\n",
      "Loss on validation set:4.465848445892334 Accuracy on validation set: 0.8916000127792358\n",
      "\u001b[1m1875/1875\u001b[0m \u001b[32m━━━━━━━━━━━━━━━━━━━━\u001b[0m\u001b[37m\u001b[0m \u001b[1m2s\u001b[0m 948us/step - accuracy: 0.8794 - loss: 5.0221 - val_accuracy: 0.8684 - val_loss: 6.1543\n",
      "\n",
      "Loss on validation set:6.154330253601074 Accuracy on validation set: 0.868399977684021\n",
      "\u001b[1m1875/1875\u001b[0m \u001b[32m━━━━━━━━━━━━━━━━━━━━\u001b[0m\u001b[37m\u001b[0m \u001b[1m2s\u001b[0m 890us/step - accuracy: 0.8839 - loss: 4.9119 - val_accuracy: 0.8760 - val_loss: 5.8109\n",
      "\n",
      "Loss on validation set:5.810883045196533 Accuracy on validation set: 0.8759999871253967\n",
      "\u001b[1m1875/1875\u001b[0m \u001b[32m━━━━━━━━━━━━━━━━━━━━\u001b[0m\u001b[37m\u001b[0m \u001b[1m2s\u001b[0m 894us/step - accuracy: 0.8864 - loss: 5.0989 - val_accuracy: 0.8651 - val_loss: 6.6667\n",
      "\n",
      "Loss on validation set:6.666698455810547 Accuracy on validation set: 0.8651000261306763\n",
      "\n",
      "Avg. validation accuracy:0.8717200040817261\n"
     ]
    }
   ],
   "source": [
    "# 5c\n",
    "from keras._tf_keras.keras.initializers import VarianceScaling\n",
    "kernel_initializer=VarianceScaling(scale=0.001, mode='fan_in', distribution='normal', seed=None)\n",
    "layers_c = [Dense(10, 'softmax', input_dim=28*28, kernel_initializer=kernel_initializer)]\n",
    "test_fc(train, validation, layers_c, 1)"
   ]
  },
  {
   "cell_type": "code",
   "execution_count": 45,
   "metadata": {},
   "outputs": [
    {
     "name": "stdout",
     "output_type": "stream",
     "text": [
      "\u001b[1m1875/1875\u001b[0m \u001b[32m━━━━━━━━━━━━━━━━━━━━\u001b[0m\u001b[37m\u001b[0m \u001b[1m2s\u001b[0m 878us/step - accuracy: 0.8863 - loss: 0.5466 - val_accuracy: 0.9202 - val_loss: 0.2935\n",
      "\n",
      "Loss on validation set:0.2935291826725006 Accuracy on validation set: 0.920199990272522\n",
      "\u001b[1m1875/1875\u001b[0m \u001b[32m━━━━━━━━━━━━━━━━━━━━\u001b[0m\u001b[37m\u001b[0m \u001b[1m2s\u001b[0m 987us/step - accuracy: 0.9173 - loss: 0.2953 - val_accuracy: 0.9229 - val_loss: 0.2769\n",
      "\n",
      "Loss on validation set:0.2769264280796051 Accuracy on validation set: 0.9229000210762024\n",
      "\u001b[1m1875/1875\u001b[0m \u001b[32m━━━━━━━━━━━━━━━━━━━━\u001b[0m\u001b[37m\u001b[0m \u001b[1m2s\u001b[0m 927us/step - accuracy: 0.9248 - loss: 0.2689 - val_accuracy: 0.9245 - val_loss: 0.2707\n",
      "\n",
      "Loss on validation set:0.2706834673881531 Accuracy on validation set: 0.9244999885559082\n",
      "\u001b[1m1875/1875\u001b[0m \u001b[32m━━━━━━━━━━━━━━━━━━━━\u001b[0m\u001b[37m\u001b[0m \u001b[1m2s\u001b[0m 872us/step - accuracy: 0.9253 - loss: 0.2658 - val_accuracy: 0.9245 - val_loss: 0.2688\n",
      "\n",
      "Loss on validation set:0.26883599162101746 Accuracy on validation set: 0.9244999885559082\n",
      "\u001b[1m1875/1875\u001b[0m \u001b[32m━━━━━━━━━━━━━━━━━━━━\u001b[0m\u001b[37m\u001b[0m \u001b[1m2s\u001b[0m 873us/step - accuracy: 0.9281 - loss: 0.2599 - val_accuracy: 0.9268 - val_loss: 0.2650\n",
      "\n",
      "Loss on validation set:0.26503902673721313 Accuracy on validation set: 0.926800012588501\n",
      "\n",
      "Avg. validation accuracy:0.9237800002098083\n"
     ]
    }
   ],
   "source": [
    "import numpy as np\n",
    "# 5d\n",
    "train_scaled = (train[0] / np.max(train[0]), train[1])\n",
    "validation_scaled = (validation[0] / np.max(validation[0]), validation[1])\n",
    "test_fc(train_scaled, validation_scaled, layers_b, 1)"
   ]
  },
  {
   "cell_type": "code",
   "execution_count": null,
   "metadata": {},
   "outputs": [],
   "source": [
    "test_fc(train_scaled, validation_scaled, layers_b, epochs=15, trials=1)"
   ]
  },
  {
   "cell_type": "code",
   "execution_count": 52,
   "metadata": {},
   "outputs": [
    {
     "name": "stderr",
     "output_type": "stream",
     "text": [
      "C:\\Users\\Tony Zheng\\AppData\\Roaming\\Python\\Python312\\site-packages\\keras\\src\\layers\\core\\dense.py:87: UserWarning: Do not pass an `input_shape`/`input_dim` argument to a layer. When using Sequential models, prefer using an `Input(shape)` object as the first layer in the model instead.\n",
      "  super().__init__(activity_regularizer=activity_regularizer, **kwargs)\n"
     ]
    },
    {
     "name": "stdout",
     "output_type": "stream",
     "text": [
      "\n",
      "Loss on validation set:0.1396959125995636 Accuracy on validation set: 0.9599999785423279\n",
      "\n",
      "Avg. validation accuracy:0.9599999785423279\n",
      "\n",
      "Loss on validation set:0.11067125201225281 Accuracy on validation set: 0.9664999842643738\n",
      "\n",
      "Avg. validation accuracy:0.9664999842643738\n",
      "\n",
      "Loss on validation set:0.09634978324174881 Accuracy on validation set: 0.9714000225067139\n",
      "\n",
      "Avg. validation accuracy:0.9714000225067139\n",
      "\n",
      "Loss on validation set:0.09923116862773895 Accuracy on validation set: 0.9690999984741211\n",
      "\n",
      "Avg. validation accuracy:0.9690999984741211\n"
     ]
    }
   ],
   "source": [
    "# 5h\n",
    "for units in [2 ** (i+7) for i in range(4)]:\n",
    "    second_layer = [Dense(10, 'softmax', input_dim=units)]\n",
    "    layers_h = [Dense(units=units, activation='relu', input_dim = 28*28)] + second_layer\n",
    "\n",
    "    test_fc(train_scaled, validation_scaled, layers_h, epochs=1, verbose=False, trials=1)"
   ]
  },
  {
   "cell_type": "code",
   "execution_count": 53,
   "metadata": {},
   "outputs": [
    {
     "name": "stderr",
     "output_type": "stream",
     "text": [
      "C:\\Users\\Tony Zheng\\AppData\\Roaming\\Python\\Python312\\site-packages\\keras\\src\\layers\\core\\dense.py:87: UserWarning: Do not pass an `input_shape`/`input_dim` argument to a layer. When using Sequential models, prefer using an `Input(shape)` object as the first layer in the model instead.\n",
      "  super().__init__(activity_regularizer=activity_regularizer, **kwargs)\n"
     ]
    },
    {
     "name": "stdout",
     "output_type": "stream",
     "text": [
      "\n",
      "Loss on validation set:0.10429543256759644 Accuracy on validation set: 0.96670001745224\n",
      "\n",
      "Avg. validation accuracy:0.96670001745224\n"
     ]
    }
   ],
   "source": [
    "# 5i\n",
    "\n",
    "last_layer = [Dense(10, 'softmax', input_dim=units)]\n",
    "layers_i = [\n",
    "    Dense(units=512, activation='relu', input_dim = 28*28), \n",
    "    Dense(units=256, activation='relu')] + \\\n",
    "        last_layer\n",
    "\n",
    "test_fc(train_scaled, validation_scaled, layers_i, epochs=1, verbose=False, trials=1)"
   ]
  },
  {
   "cell_type": "code",
   "execution_count": 56,
   "metadata": {},
   "outputs": [
    {
     "name": "stdout",
     "output_type": "stream",
     "text": [
      "\u001b[1m1875/1875\u001b[0m \u001b[32m━━━━━━━━━━━━━━━━━━━━\u001b[0m\u001b[37m\u001b[0m \u001b[1m13s\u001b[0m 6ms/step - accuracy: 0.8738 - loss: 0.3972 - val_accuracy: 0.9847 - val_loss: 0.0466\n",
      "\n",
      "Loss on validation set:0.046636298298835754 Accuracy on validation set: 0.9847000241279602\n",
      "\n",
      "Avg. validation accuracy:0.9847000241279602\n"
     ]
    }
   ],
   "source": [
    "# 5j\n",
    "from keras._tf_keras.keras.layers import MaxPool2D, Dropout, Flatten\n",
    "layers_j = [\n",
    "    Conv2D(filters=32, kernel_size=(3,3), activation='relu'),\n",
    "    MaxPool2D(),\n",
    "    Conv2D(filters=64, kernel_size=(3,3), activation='relu'),\n",
    "    MaxPool2D(),\n",
    "    Flatten(),\n",
    "    Dense(128, activation='relu'),\n",
    "    Dropout(rate=.5),\n",
    "    Dense(10, 'softmax')\n",
    "]\n",
    "\n",
    "hw8.run_keras_cnn_mnist(train_scaled, validation_scaled, layers_j, 1)"
   ]
  },
  {
   "cell_type": "code",
   "execution_count": 60,
   "metadata": {},
   "outputs": [
    {
     "name": "stdout",
     "output_type": "stream",
     "text": [
      "\u001b[1m1875/1875\u001b[0m \u001b[32m━━━━━━━━━━━━━━━━━━━━\u001b[0m\u001b[37m\u001b[0m \u001b[1m18s\u001b[0m 9ms/step - accuracy: 0.6055 - loss: 1.1547 - val_accuracy: 0.8705 - val_loss: 0.4077\n",
      "\n",
      "Loss on validation set:0.4077307879924774 Accuracy on validation set: 0.8705000281333923\n",
      "\n",
      "Avg. validation accuracy:0.8705000281333923\n"
     ]
    },
    {
     "ename": "ValueError",
     "evalue": "Input 0 of layer \"dense_28\" is incompatible with the layer: expected axis -1 of input shape to have value 1600, but received input with shape (32, 6400)",
     "output_type": "error",
     "traceback": [
      "\u001b[1;31m---------------------------------------------------------------------------\u001b[0m",
      "\u001b[1;31mValueError\u001b[0m                                Traceback (most recent call last)",
      "Cell \u001b[1;32mIn[60], line 12\u001b[0m\n\u001b[0;32m      6\u001b[0m layers_i_modified \u001b[38;5;241m=\u001b[39m [\n\u001b[0;32m      7\u001b[0m     Dense(units\u001b[38;5;241m=\u001b[39m\u001b[38;5;241m512\u001b[39m, activation\u001b[38;5;241m=\u001b[39m\u001b[38;5;124m'\u001b[39m\u001b[38;5;124mrelu\u001b[39m\u001b[38;5;124m'\u001b[39m), \n\u001b[0;32m      8\u001b[0m     Dense(units\u001b[38;5;241m=\u001b[39m\u001b[38;5;241m256\u001b[39m, activation\u001b[38;5;241m=\u001b[39m\u001b[38;5;124m'\u001b[39m\u001b[38;5;124mrelu\u001b[39m\u001b[38;5;124m'\u001b[39m)] \u001b[38;5;241m+\u001b[39m \\\n\u001b[0;32m      9\u001b[0m         last_layer\n\u001b[0;32m     11\u001b[0m hw8\u001b[38;5;241m.\u001b[39mrun_keras_fc_mnist(train_20, validation_20, layers_i_modified, \u001b[38;5;241m1\u001b[39m)\n\u001b[1;32m---> 12\u001b[0m \u001b[43mhw8\u001b[49m\u001b[38;5;241;43m.\u001b[39;49m\u001b[43mrun_keras_cnn_mnist\u001b[49m\u001b[43m(\u001b[49m\u001b[43mtrain_20\u001b[49m\u001b[43m,\u001b[49m\u001b[43m \u001b[49m\u001b[43mvalidation_20\u001b[49m\u001b[43m,\u001b[49m\u001b[43m \u001b[49m\u001b[43mlayers_j\u001b[49m\u001b[43m,\u001b[49m\u001b[43m \u001b[49m\u001b[38;5;241;43m1\u001b[39;49m\u001b[43m)\u001b[49m\n",
      "File \u001b[1;32mc:\\Users\\Tony Zheng\\Documents\\codestuff\\MIT-6.036\\Week 8\\code_for_hw8\\code_for_hw8\\code_for_hw8_keras.py:336\u001b[0m, in \u001b[0;36mrun_keras_cnn_mnist\u001b[1;34m(train, test, layers, epochs, split, verbose, trials)\u001b[0m\n\u001b[0;32m    323\u001b[0m val_acc, test_acc \u001b[38;5;241m=\u001b[39m \u001b[38;5;241m0\u001b[39m, \u001b[38;5;241m0\u001b[39m\n\u001b[0;32m    324\u001b[0m \u001b[38;5;28;01mfor\u001b[39;00m trial \u001b[38;5;129;01min\u001b[39;00m \u001b[38;5;28mrange\u001b[39m(trials):\n\u001b[0;32m    325\u001b[0m     \u001b[38;5;66;03m# # Reset the weights\u001b[39;00m\n\u001b[0;32m    326\u001b[0m     \u001b[38;5;66;03m# # See https://github.com/keras-team/keras/issues/341\u001b[39;00m\n\u001b[1;32m   (...)\u001b[0m\n\u001b[0;32m    333\u001b[0m     \u001b[38;5;66;03m#             initializer_func.run(session=session)\u001b[39;00m\n\u001b[0;32m    334\u001b[0m     \u001b[38;5;66;03m# Run the model\u001b[39;00m\n\u001b[0;32m    335\u001b[0m     model, history, vacc, tacc \u001b[38;5;241m=\u001b[39m \\\n\u001b[1;32m--> 336\u001b[0m             \u001b[43mrun_keras\u001b[49m\u001b[43m(\u001b[49m\u001b[43mX_train\u001b[49m\u001b[43m,\u001b[49m\u001b[43m \u001b[49m\u001b[43my_train\u001b[49m\u001b[43m,\u001b[49m\u001b[43m \u001b[49m\u001b[43mX_val\u001b[49m\u001b[43m,\u001b[49m\u001b[43m \u001b[49m\u001b[43my_val\u001b[49m\u001b[43m,\u001b[49m\u001b[43m \u001b[49m\u001b[38;5;28;43;01mNone\u001b[39;49;00m\u001b[43m,\u001b[49m\u001b[43m \u001b[49m\u001b[38;5;28;43;01mNone\u001b[39;49;00m\u001b[43m,\u001b[49m\u001b[43m \u001b[49m\u001b[43mlayers\u001b[49m\u001b[43m,\u001b[49m\u001b[43m \u001b[49m\u001b[43mepochs\u001b[49m\u001b[43m,\u001b[49m\u001b[43m \u001b[49m\u001b[43msplit\u001b[49m\u001b[38;5;241;43m=\u001b[39;49m\u001b[43msplit\u001b[49m\u001b[43m,\u001b[49m\u001b[43m \u001b[49m\u001b[43mverbose\u001b[49m\u001b[38;5;241;43m=\u001b[39;49m\u001b[43mverbose\u001b[49m\u001b[43m)\u001b[49m\n\u001b[0;32m    337\u001b[0m     val_acc \u001b[38;5;241m+\u001b[39m\u001b[38;5;241m=\u001b[39m vacc \u001b[38;5;28;01mif\u001b[39;00m vacc \u001b[38;5;28;01melse\u001b[39;00m \u001b[38;5;241m0\u001b[39m\n\u001b[0;32m    338\u001b[0m     test_acc \u001b[38;5;241m+\u001b[39m\u001b[38;5;241m=\u001b[39m tacc \u001b[38;5;28;01mif\u001b[39;00m tacc \u001b[38;5;28;01melse\u001b[39;00m \u001b[38;5;241m0\u001b[39m\n",
      "File \u001b[1;32mc:\\Users\\Tony Zheng\\Documents\\codestuff\\MIT-6.036\\Week 8\\code_for_hw8\\code_for_hw8\\code_for_hw8_keras.py:107\u001b[0m, in \u001b[0;36mrun_keras\u001b[1;34m(X_train, y_train, X_val, y_val, X_test, y_test, layers, epochs, split, verbose)\u001b[0m\n\u001b[0;32m    104\u001b[0m     model\u001b[38;5;241m.\u001b[39mfit(X_train, y_train, epochs\u001b[38;5;241m=\u001b[39mepochs, batch_size\u001b[38;5;241m=\u001b[39mbatch, validation_split\u001b[38;5;241m=\u001b[39msplit,\n\u001b[0;32m    105\u001b[0m               callbacks\u001b[38;5;241m=\u001b[39m[history], verbose\u001b[38;5;241m=\u001b[39mverbose)\n\u001b[0;32m    106\u001b[0m \u001b[38;5;28;01melse\u001b[39;00m:\n\u001b[1;32m--> 107\u001b[0m     \u001b[43mmodel\u001b[49m\u001b[38;5;241;43m.\u001b[39;49m\u001b[43mfit\u001b[49m\u001b[43m(\u001b[49m\u001b[43mX_train\u001b[49m\u001b[43m,\u001b[49m\u001b[43m \u001b[49m\u001b[43my_train\u001b[49m\u001b[43m,\u001b[49m\u001b[43m \u001b[49m\u001b[43mepochs\u001b[49m\u001b[38;5;241;43m=\u001b[39;49m\u001b[43mepochs\u001b[49m\u001b[43m,\u001b[49m\u001b[43m \u001b[49m\u001b[43mbatch_size\u001b[49m\u001b[38;5;241;43m=\u001b[39;49m\u001b[43mbatch\u001b[49m\u001b[43m,\u001b[49m\u001b[43m \u001b[49m\u001b[43mvalidation_data\u001b[49m\u001b[38;5;241;43m=\u001b[39;49m\u001b[43m(\u001b[49m\u001b[43mX_val\u001b[49m\u001b[43m,\u001b[49m\u001b[43m \u001b[49m\u001b[43my_val\u001b[49m\u001b[43m)\u001b[49m\u001b[43m,\u001b[49m\n\u001b[0;32m    108\u001b[0m \u001b[43m              \u001b[49m\u001b[43mcallbacks\u001b[49m\u001b[38;5;241;43m=\u001b[39;49m\u001b[43m[\u001b[49m\u001b[43mhistory\u001b[49m\u001b[43m]\u001b[49m\u001b[43m,\u001b[49m\u001b[43m \u001b[49m\u001b[43mverbose\u001b[49m\u001b[38;5;241;43m=\u001b[39;49m\u001b[43mverbose\u001b[49m\u001b[43m)\u001b[49m\n\u001b[0;32m    109\u001b[0m \u001b[38;5;66;03m# Evaluate the model on validation data, if any\u001b[39;00m\n\u001b[0;32m    110\u001b[0m \u001b[38;5;28;01mif\u001b[39;00m X_val \u001b[38;5;129;01mis\u001b[39;00m \u001b[38;5;129;01mnot\u001b[39;00m \u001b[38;5;28;01mNone\u001b[39;00m \u001b[38;5;129;01mor\u001b[39;00m split \u001b[38;5;241m>\u001b[39m \u001b[38;5;241m0\u001b[39m:\n",
      "File \u001b[1;32m~\\AppData\\Roaming\\Python\\Python312\\site-packages\\keras\\src\\utils\\traceback_utils.py:122\u001b[0m, in \u001b[0;36mfilter_traceback.<locals>.error_handler\u001b[1;34m(*args, **kwargs)\u001b[0m\n\u001b[0;32m    119\u001b[0m     filtered_tb \u001b[38;5;241m=\u001b[39m _process_traceback_frames(e\u001b[38;5;241m.\u001b[39m__traceback__)\n\u001b[0;32m    120\u001b[0m     \u001b[38;5;66;03m# To get the full stack trace, call:\u001b[39;00m\n\u001b[0;32m    121\u001b[0m     \u001b[38;5;66;03m# `keras.config.disable_traceback_filtering()`\u001b[39;00m\n\u001b[1;32m--> 122\u001b[0m     \u001b[38;5;28;01mraise\u001b[39;00m e\u001b[38;5;241m.\u001b[39mwith_traceback(filtered_tb) \u001b[38;5;28;01mfrom\u001b[39;00m \u001b[38;5;28;01mNone\u001b[39;00m\n\u001b[0;32m    123\u001b[0m \u001b[38;5;28;01mfinally\u001b[39;00m:\n\u001b[0;32m    124\u001b[0m     \u001b[38;5;28;01mdel\u001b[39;00m filtered_tb\n",
      "File \u001b[1;32m~\\AppData\\Roaming\\Python\\Python312\\site-packages\\keras\\src\\layers\\input_spec.py:227\u001b[0m, in \u001b[0;36massert_input_compatibility\u001b[1;34m(input_spec, inputs, layer_name)\u001b[0m\n\u001b[0;32m    222\u001b[0m     \u001b[38;5;28;01mfor\u001b[39;00m axis, value \u001b[38;5;129;01min\u001b[39;00m spec\u001b[38;5;241m.\u001b[39maxes\u001b[38;5;241m.\u001b[39mitems():\n\u001b[0;32m    223\u001b[0m         \u001b[38;5;28;01mif\u001b[39;00m value \u001b[38;5;129;01mis\u001b[39;00m \u001b[38;5;129;01mnot\u001b[39;00m \u001b[38;5;28;01mNone\u001b[39;00m \u001b[38;5;129;01mand\u001b[39;00m shape[axis] \u001b[38;5;129;01mnot\u001b[39;00m \u001b[38;5;129;01min\u001b[39;00m {\n\u001b[0;32m    224\u001b[0m             value,\n\u001b[0;32m    225\u001b[0m             \u001b[38;5;28;01mNone\u001b[39;00m,\n\u001b[0;32m    226\u001b[0m         }:\n\u001b[1;32m--> 227\u001b[0m             \u001b[38;5;28;01mraise\u001b[39;00m \u001b[38;5;167;01mValueError\u001b[39;00m(\n\u001b[0;32m    228\u001b[0m                 \u001b[38;5;124mf\u001b[39m\u001b[38;5;124m'\u001b[39m\u001b[38;5;124mInput \u001b[39m\u001b[38;5;132;01m{\u001b[39;00minput_index\u001b[38;5;132;01m}\u001b[39;00m\u001b[38;5;124m of layer \u001b[39m\u001b[38;5;124m\"\u001b[39m\u001b[38;5;132;01m{\u001b[39;00mlayer_name\u001b[38;5;132;01m}\u001b[39;00m\u001b[38;5;124m\"\u001b[39m\u001b[38;5;124m is \u001b[39m\u001b[38;5;124m'\u001b[39m\n\u001b[0;32m    229\u001b[0m                 \u001b[38;5;124mf\u001b[39m\u001b[38;5;124m\"\u001b[39m\u001b[38;5;124mincompatible with the layer: expected axis \u001b[39m\u001b[38;5;132;01m{\u001b[39;00maxis\u001b[38;5;132;01m}\u001b[39;00m\u001b[38;5;124m \u001b[39m\u001b[38;5;124m\"\u001b[39m\n\u001b[0;32m    230\u001b[0m                 \u001b[38;5;124mf\u001b[39m\u001b[38;5;124m\"\u001b[39m\u001b[38;5;124mof input shape to have value \u001b[39m\u001b[38;5;132;01m{\u001b[39;00mvalue\u001b[38;5;132;01m}\u001b[39;00m\u001b[38;5;124m, \u001b[39m\u001b[38;5;124m\"\u001b[39m\n\u001b[0;32m    231\u001b[0m                 \u001b[38;5;124m\"\u001b[39m\u001b[38;5;124mbut received input with \u001b[39m\u001b[38;5;124m\"\u001b[39m\n\u001b[0;32m    232\u001b[0m                 \u001b[38;5;124mf\u001b[39m\u001b[38;5;124m\"\u001b[39m\u001b[38;5;124mshape \u001b[39m\u001b[38;5;132;01m{\u001b[39;00mshape\u001b[38;5;132;01m}\u001b[39;00m\u001b[38;5;124m\"\u001b[39m\n\u001b[0;32m    233\u001b[0m             )\n\u001b[0;32m    234\u001b[0m \u001b[38;5;66;03m# Check shape.\u001b[39;00m\n\u001b[0;32m    235\u001b[0m \u001b[38;5;28;01mif\u001b[39;00m spec\u001b[38;5;241m.\u001b[39mshape \u001b[38;5;129;01mis\u001b[39;00m \u001b[38;5;129;01mnot\u001b[39;00m \u001b[38;5;28;01mNone\u001b[39;00m:\n",
      "\u001b[1;31mValueError\u001b[0m: Input 0 of layer \"dense_28\" is incompatible with the layer: expected axis -1 of input shape to have value 1600, but received input with shape (32, 6400)"
     ]
    }
   ],
   "source": [
    "# 5k\n",
    "train_20, validation_20 = hw8.get_MNIST_data(shift=20)\n",
    "train_20 = (train_20[0] / np.max(train_20[0]), train_20[1])\n",
    "validation_20 = (validation_20[0] / np.max(validation_20[0]), validation_20[1])\n",
    "\n",
    "layers_i_modified = [\n",
    "    Dense(units=512, activation='relu'), \n",
    "    Dense(units=256, activation='relu')] + \\\n",
    "        last_layer\n",
    "\n",
    "hw8.run_keras_fc_mnist(train_20, validation_20, layers_i_modified, 1)\n",
    "\n",
    "layers_j = [\n",
    "    Conv2D(filters=32, kernel_size=(3,3), activation='relu'),\n",
    "    MaxPool2D(),\n",
    "    Conv2D(filters=64, kernel_size=(3,3), activation='relu'),\n",
    "    MaxPool2D(),\n",
    "    Flatten(),\n",
    "    Dense(128, activation='relu'),\n",
    "    Dropout(rate=.5),\n",
    "    Dense(10, 'softmax')\n",
    "]\n",
    "hw8.run_keras_cnn_mnist(train_20, validation_20, layers_j, 1)"
   ]
  }
 ],
 "metadata": {
  "kernelspec": {
   "display_name": "Python 3",
   "language": "python",
   "name": "python3"
  },
  "language_info": {
   "codemirror_mode": {
    "name": "ipython",
    "version": 3
   },
   "file_extension": ".py",
   "mimetype": "text/x-python",
   "name": "python",
   "nbconvert_exporter": "python",
   "pygments_lexer": "ipython3",
   "version": "3.12.3"
  }
 },
 "nbformat": 4,
 "nbformat_minor": 2
}
